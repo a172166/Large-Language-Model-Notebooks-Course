{
  "cells": [
    {
      "cell_type": "markdown",
      "id": "MDJ3_BRhasUG",
      "metadata": {
        "id": "MDJ3_BRhasUG"
      },
      "source": [
        "<div align=\"center\">\n",
        "<h1><a href=\"https://github.com/peremartra/Large-Language-Model-Notebooks-Course\">Learn by Doing LLM Projects</a></h1>\n",
        "    <h3>Understand And Apply Large Language Models</h3>\n",
        "    <h2>Create a Simple Natural Language to SQL translator</h2>\n",
        "    by <b>Pere Martra</b>\n",
        "</div>\n",
        "\n",
        "<br>\n",
        "\n",
        "<div align=\"center\">\n",
        "    &nbsp;\n",
        "    <a target=\"_blank\" href=\"https://www.linkedin.com/in/pere-martra/\"><img src=\"https://img.shields.io/badge/style--5eba00.svg?label=LinkedIn&logo=linkedin&style=social\"></a>\n",
        "    \n",
        "</div>\n",
        "\n",
        "<br>\n",
        "<hr>"
      ]
    },
    {
      "cell_type": "markdown",
      "id": "c23b4dd1",
      "metadata": {
        "id": "c23b4dd1"
      },
      "source": [
        "# SQL Generator\n",
        "A sample of how to build a translator from natural language to SQL:\n",
        "\n",
        "* GPT 35\n",
        "* Panel\n",
        "* OpenAI\n",
        "\n",
        "Deeper explanations in the article: [How to Create a Natural Language to SQL Translator Using OpenAI API](https://medium.com/towards-artificial-intelligence/how-to-create-a-natural-language-to-sql-translator-using-openai-api-e1b1f72ac35a)"
      ]
    },
    {
      "cell_type": "markdown",
      "id": "e04d4934",
      "metadata": {},
      "source": [
        "In order to install packages:\n",
        "- Create a file named `.netrc` in the root in Pygressive, and use the following:\n",
        "```\n",
        "machine progressive.jfrog.io\n",
        "    login {AFT_USERNAME}\n",
        "    password {AFT_PASSWORD}\n",
        "``````\n",
        "- set {AFT_USERNAME} / {AFT_PASSWORD} to your username/password in Artifactory"
      ]
    },
    {
      "cell_type": "code",
      "execution_count": 1,
      "id": "a1d00720",
      "metadata": {
        "colab": {
          "base_uri": "https://localhost:8080/"
        },
        "id": "a1d00720",
        "outputId": "84107c89-10cd-423a-c8ee-fa97aa1916fd"
      },
      "outputs": [
        {
          "name": "stdout",
          "output_type": "stream",
          "text": [
            "Defaulting to user installation because normal site-packages is not writeable\n",
            "Looking in indexes: https://progressive.jfrog.io/artifactory/api/pypi/pgr-pypi/simple\n",
            "Requirement already satisfied: openai==1.1.1 in /home/a172166/.local/lib/python3.8/site-packages (1.1.1)\n",
            "Requirement already satisfied: pydantic<3,>=1.9.0 in /home/a172166/.local/lib/python3.8/site-packages (from openai==1.1.1) (2.4.2)\n",
            "Requirement already satisfied: distro<2,>=1.7.0 in /home/a172166/.local/lib/python3.8/site-packages (from openai==1.1.1) (1.9.0)\n",
            "Requirement already satisfied: typing-extensions<5,>=4.5 in /usr/local/lib/python3.8/site-packages (from openai==1.1.1) (4.8.0)\n",
            "Requirement already satisfied: httpx<1,>=0.23.0 in /home/a172166/.local/lib/python3.8/site-packages (from openai==1.1.1) (0.25.0)\n",
            "Requirement already satisfied: tqdm>4 in /home/a172166/.local/lib/python3.8/site-packages (from openai==1.1.1) (4.66.1)\n",
            "Requirement already satisfied: anyio<4,>=3.5.0 in /home/a172166/.local/lib/python3.8/site-packages (from openai==1.1.1) (3.7.1)\n",
            "Requirement already satisfied: sniffio>=1.1 in /home/a172166/.local/lib/python3.8/site-packages (from anyio<4,>=3.5.0->openai==1.1.1) (1.3.0)\n",
            "Requirement already satisfied: idna>=2.8 in /usr/local/lib/python3.8/site-packages (from anyio<4,>=3.5.0->openai==1.1.1) (3.4)\n",
            "Requirement already satisfied: exceptiongroup in /home/a172166/.local/lib/python3.8/site-packages (from anyio<4,>=3.5.0->openai==1.1.1) (1.1.3)\n",
            "Requirement already satisfied: httpcore<0.19.0,>=0.18.0 in /home/a172166/.local/lib/python3.8/site-packages (from httpx<1,>=0.23.0->openai==1.1.1) (0.18.0)\n",
            "Requirement already satisfied: certifi in /usr/local/lib/python3.8/site-packages (from httpx<1,>=0.23.0->openai==1.1.1) (2023.7.22)\n",
            "Requirement already satisfied: annotated-types>=0.4.0 in /home/a172166/.local/lib/python3.8/site-packages (from pydantic<3,>=1.9.0->openai==1.1.1) (0.5.0)\n",
            "Requirement already satisfied: pydantic-core==2.10.1 in /home/a172166/.local/lib/python3.8/site-packages (from pydantic<3,>=1.9.0->openai==1.1.1) (2.10.1)\n",
            "Requirement already satisfied: h11<0.15,>=0.13 in /home/a172166/.local/lib/python3.8/site-packages (from httpcore<0.19.0,>=0.18.0->httpx<1,>=0.23.0->openai==1.1.1) (0.14.0)\n",
            "\u001b[33mWARNING: You are using pip version 22.0.3; however, version 23.3.2 is available.\n",
            "You should consider upgrading via the '/usr/local/bin/python -m pip install --upgrade pip' command.\u001b[0m\u001b[33m\n",
            "\u001b[0mDefaulting to user installation because normal site-packages is not writeable\n",
            "Looking in indexes: https://progressive.jfrog.io/artifactory/api/pypi/pgr-pypi/simple\n",
            "Requirement already satisfied: panel in /home/a172166/.local/lib/python3.8/site-packages (1.2.3)\n",
            "Requirement already satisfied: mdit-py-plugins in /home/a172166/.local/lib/python3.8/site-packages (from panel) (0.4.0)\n",
            "Requirement already satisfied: pandas>=1.2 in /usr/local/lib/python3.8/site-packages (from panel) (2.0.3)\n",
            "Requirement already satisfied: xyzservices>=2021.09.1 in /home/a172166/.local/lib/python3.8/site-packages (from panel) (2023.10.1)\n",
            "Requirement already satisfied: markdown-it-py in /home/a172166/.local/lib/python3.8/site-packages (from panel) (3.0.0)\n",
            "Requirement already satisfied: requests in /usr/local/lib/python3.8/site-packages (from panel) (2.31.0)\n",
            "Requirement already satisfied: param>=1.12.0 in /home/a172166/.local/lib/python3.8/site-packages (from panel) (2.0.1)\n",
            "Requirement already satisfied: linkify-it-py in /home/a172166/.local/lib/python3.8/site-packages (from panel) (2.0.2)\n",
            "Requirement already satisfied: tqdm>=4.48.0 in /home/a172166/.local/lib/python3.8/site-packages (from panel) (4.66.1)\n",
            "Requirement already satisfied: bleach in /home/a172166/.local/lib/python3.8/site-packages (from panel) (6.1.0)\n",
            "Requirement already satisfied: markdown in /home/a172166/.local/lib/python3.8/site-packages (from panel) (3.5.1)\n",
            "Requirement already satisfied: pyviz-comms>=0.7.4 in /home/a172166/.local/lib/python3.8/site-packages (from panel) (3.0.0)\n",
            "Requirement already satisfied: typing-extensions in /usr/local/lib/python3.8/site-packages (from panel) (4.8.0)\n",
            "Requirement already satisfied: bokeh<3.3.0,>=3.1.1 in /home/a172166/.local/lib/python3.8/site-packages (from panel) (3.1.1)\n",
            "Requirement already satisfied: contourpy>=1 in /home/a172166/.local/lib/python3.8/site-packages (from bokeh<3.3.0,>=3.1.1->panel) (1.1.1)\n",
            "Requirement already satisfied: numpy>=1.16 in /usr/local/lib/python3.8/site-packages (from bokeh<3.3.0,>=3.1.1->panel) (1.24.4)\n",
            "Requirement already satisfied: Jinja2>=2.9 in /home/a172166/.local/lib/python3.8/site-packages (from bokeh<3.3.0,>=3.1.1->panel) (3.1.2)\n",
            "Requirement already satisfied: PyYAML>=3.10 in /usr/local/lib/python3.8/site-packages (from bokeh<3.3.0,>=3.1.1->panel) (6.0.1)\n",
            "Requirement already satisfied: tornado>=5.1 in /usr/local/lib/python3.8/site-packages (from bokeh<3.3.0,>=3.1.1->panel) (6.3.3)\n",
            "Requirement already satisfied: pillow>=7.1.0 in /home/a172166/.local/lib/python3.8/site-packages (from bokeh<3.3.0,>=3.1.1->panel) (10.0.1)\n",
            "Requirement already satisfied: packaging>=16.8 in /usr/local/lib/python3.8/site-packages (from bokeh<3.3.0,>=3.1.1->panel) (23.1)\n",
            "Requirement already satisfied: pytz>=2020.1 in /usr/local/lib/python3.8/site-packages (from pandas>=1.2->panel) (2023.3.post1)\n",
            "Requirement already satisfied: python-dateutil>=2.8.2 in /usr/local/lib/python3.8/site-packages (from pandas>=1.2->panel) (2.8.2)\n",
            "Requirement already satisfied: tzdata>=2022.1 in /usr/local/lib/python3.8/site-packages (from pandas>=1.2->panel) (2023.3)\n",
            "Requirement already satisfied: webencodings in /home/a172166/.local/lib/python3.8/site-packages (from bleach->panel) (0.5.1)\n",
            "Requirement already satisfied: six>=1.9.0 in /usr/local/lib/python3.8/site-packages (from bleach->panel) (1.16.0)\n",
            "Requirement already satisfied: uc-micro-py in /home/a172166/.local/lib/python3.8/site-packages (from linkify-it-py->panel) (1.0.2)\n",
            "Requirement already satisfied: importlib-metadata>=4.4 in /usr/local/lib/python3.8/site-packages (from markdown->panel) (6.8.0)\n",
            "Requirement already satisfied: mdurl~=0.1 in /home/a172166/.local/lib/python3.8/site-packages (from markdown-it-py->panel) (0.1.2)\n",
            "Requirement already satisfied: idna<4,>=2.5 in /usr/local/lib/python3.8/site-packages (from requests->panel) (3.4)\n",
            "Requirement already satisfied: certifi>=2017.4.17 in /usr/local/lib/python3.8/site-packages (from requests->panel) (2023.7.22)\n",
            "Requirement already satisfied: urllib3<3,>=1.21.1 in /usr/local/lib/python3.8/site-packages (from requests->panel) (2.0.5)\n",
            "Requirement already satisfied: charset-normalizer<4,>=2 in /usr/local/lib/python3.8/site-packages (from requests->panel) (3.2.0)\n",
            "Requirement already satisfied: zipp>=0.5 in /usr/local/lib/python3.8/site-packages (from importlib-metadata>=4.4->markdown->panel) (3.17.0)\n",
            "Requirement already satisfied: MarkupSafe>=2.0 in /home/a172166/.local/lib/python3.8/site-packages (from Jinja2>=2.9->bokeh<3.3.0,>=3.1.1->panel) (2.1.3)\n",
            "\u001b[33mWARNING: You are using pip version 22.0.3; however, version 23.3.2 is available.\n",
            "You should consider upgrading via the '/usr/local/bin/python -m pip install --upgrade pip' command.\u001b[0m\u001b[33m\n",
            "\u001b[0m"
          ]
        }
      ],
      "source": [
        "!pip install openai==1.1.1"
      ]
    },
    {
      "cell_type": "code",
      "execution_count": 3,
      "id": "a03f026a",
      "metadata": {
        "id": "a03f026a"
      },
      "outputs": [],
      "source": [
        "\n",
        "from dotenv import load_dotenv\n",
        "load_dotenv(\"../.env\")\n",
        "\n",
        "import os\n",
        "\n",
        "import openai\n",
        "import panel as pn\n",
        "\n",
        "openai.api_type = \"azure\"\n",
        "openai.api_base = os.environ[\"AZURE_OPENAI_ENDPOINT\"]\n",
        "openai.api_version = os.environ[\"AZURE_OPENAI_API_VERSION\"]\n",
        "openai.api_key = os.environ[\"AZURE_OPENAI_API_KEY\"]\n",
        "os.environ[\"SSL_CERT_FILE\"] = \"/etc/ssl/certs/ca-certificates.crt\"\n"
      ]
    },
    {
      "cell_type": "code",
      "execution_count": 13,
      "id": "77eac86d",
      "metadata": {
        "id": "77eac86d"
      },
      "outputs": [],
      "source": [
        "def continue_conversation(messages, temperature=0):\n",
        "    response = openai.chat.completions.create(\n",
        "        model=os.environ[\"AZURE_OPENAI_DEPLOYMENT\"],\n",
        "        messages=messages,\n",
        "        temperature=temperature,\n",
        "    )\n",
        "    return response.choices[0].message.content"
      ]
    },
    {
      "cell_type": "code",
      "execution_count": 71,
      "id": "51bec475",
      "metadata": {
        "id": "51bec475"
      },
      "outputs": [],
      "source": [
        "def add_prompts_conversation(prompt):\n",
        "    #Append to the context the User promnopt.\n",
        "    context.append({'role':'user', 'content':f\"{prompt}.\"})\n",
        "    context.append({'role':'system', 'content':f\"\"\"YOU ARE A SQL Assistant. \\\n",
        "    If the user ask for something that the result is not an SQL Order \\\n",
        "    just answer something nice and simple asking him, with maximum 10 words, for something that \\\n",
        "    can be solved with SQL.\"\"\"})\n",
        "\n",
        "    #Get the response.\n",
        "    response = continue_conversation(context)\n",
        "\n",
        "    #Add the response to the context.\n",
        "    context.append({'role':'assistant', 'content':f\"{response}\"})\n",
        "\n",
        "    return response\n",
        "\n",
        "def reset_content(context):\n",
        "    context = context[:4]\n"
      ]
    },
    {
      "cell_type": "code",
      "execution_count": 65,
      "id": "922f8d24",
      "metadata": {
        "colab": {
          "base_uri": "https://localhost:8080/",
          "height": 17
        },
        "id": "922f8d24",
        "outputId": "73379791-f1e9-4810-9fdb-2b0365bf7039"
      },
      "outputs": [
        {
          "data": {
            "text/plain": [
              "[{'role': 'system',\n",
              "  'content': '\\n        you are a bot to assist in create SQL commands, all your answers should start with         this is your SQL, and after that an SQL that can do what the user request.         Your Database is composed by a SQL database with some tables.         Try to Maintain the SQL order simple.\\n        Put the SQL command in white letters with a black background, and just after         a simple and concise text explaining how it works.\\n        If the user ask for something that can not be solved with an SQL Order         just answer something nice and simple, maximum 10 words, asking him for something that         can be solved with SQL.\\n        '},\n",
              " {'role': 'system',\n",
              "  'content': '\\n        first table:\\n        {\\n        \"tableName\": \"employees\",\\n        \"fields\": [\\n            {\\n            \"nombre\": \"ID_usr\",\\n            \"tipo\": \"int\"\\n            },\\n            {\\n            \"nombre\": \"name\",\\n            \"tipo\": \"string\"\\n            }\\n        ]\\n        }\\n        '},\n",
              " {'role': 'system',\n",
              "  'content': '\\n        second table:\\n        {\\n        \"tableName\": \"salary\",\\n        \"fields\": [\\n            {\\n            \"nombre\": \"ID_usr\",\\n            \"type\": \"int\"\\n            },\\n            {\\n            \"name\": \"year\",\\n            \"type\": \"date\"\\n            },\\n            {\\n            \"name\": \"salary\",\\n            \"type\": \"float\"\\n            }\\n        ]\\n        }\\n        '},\n",
              " {'role': 'system',\n",
              "  'content': '\\n        third table:\\n        {\\n        \"tablename\": \"studies\",\\n        \"fields\": [\\n            {\\n            \"name\": \"ID\",\\n            \"type\": \"int\"\\n            },\\n            {\\n            \"name\": \"ID_usr\",\\n            \"type\": \"int\"\\n            },\\n            {\\n            \"name\": \"educational level\",\\n            \"type\": \"int\"\\n            },\\n            {\\n            \"name\": \"Institution\",\\n            \"type\": \"string\"\\n            },\\n            {\\n            \"name\": \"Years\",\\n            \"type\": \"date\"\\n            }\\n            {\\n            \"name\": \"Speciality\",\\n            \"type\": \"string\"\\n            }\\n        ]\\n        }\\n        '}]"
            ]
          },
          "execution_count": 65,
          "metadata": {},
          "output_type": "execute_result"
        }
      ],
      "source": [
        "\n",
        "context = [ {'role':'system', 'content':\"\"\"\n",
        "        you are a bot to assist in create SQL commands, all your answers should start with \\\n",
        "        this is your SQL, and after that an SQL that can do what the user request. \\\n",
        "        Your Database is composed by a SQL database with some tables. \\\n",
        "        Try to Maintain the SQL order simple.\n",
        "        Put the SQL command in white letters with a black background, and just after \\\n",
        "        a simple and concise text explaining how it works.\n",
        "        If the user ask for something that can not be solved with an SQL Order \\\n",
        "        just answer something nice and simple, maximum 10 words, asking him for something that \\\n",
        "        can be solved with SQL.\n",
        "        \"\"\"} ]\n",
        "\n",
        "context.append( {'role':'system', 'content':\"\"\"\n",
        "        first table:\n",
        "        {\n",
        "        \"tableName\": \"employees\",\n",
        "        \"fields\": [\n",
        "            {\n",
        "            \"nombre\": \"ID_usr\",\n",
        "            \"tipo\": \"int\"\n",
        "            },\n",
        "            {\n",
        "            \"nombre\": \"name\",\n",
        "            \"tipo\": \"string\"\n",
        "            }\n",
        "        ]\n",
        "        }\n",
        "        \"\"\"\n",
        "        })\n",
        "\n",
        "context.append( {'role':'system', 'content':\"\"\"\n",
        "        second table:\n",
        "        {\n",
        "        \"tableName\": \"salary\",\n",
        "        \"fields\": [\n",
        "            {\n",
        "            \"nombre\": \"ID_usr\",\n",
        "            \"type\": \"int\"\n",
        "            },\n",
        "            {\n",
        "            \"name\": \"year\",\n",
        "            \"type\": \"date\"\n",
        "            },\n",
        "            {\n",
        "            \"name\": \"salary\",\n",
        "            \"type\": \"float\"\n",
        "            }\n",
        "        ]\n",
        "        }\n",
        "        \"\"\"\n",
        "        })\n",
        "\n",
        "context.append( {'role':'system', 'content':\"\"\"\n",
        "        third table:\n",
        "        {\n",
        "        \"tablename\": \"studies\",\n",
        "        \"fields\": [\n",
        "            {\n",
        "            \"name\": \"ID\",\n",
        "            \"type\": \"int\"\n",
        "            },\n",
        "            {\n",
        "            \"name\": \"ID_usr\",\n",
        "            \"type\": \"int\"\n",
        "            },\n",
        "            {\n",
        "            \"name\": \"educational level\",\n",
        "            \"type\": \"int\"\n",
        "            },\n",
        "            {\n",
        "            \"name\": \"Institution\",\n",
        "            \"type\": \"string\"\n",
        "            },\n",
        "            {\n",
        "            \"name\": \"Years\",\n",
        "            \"type\": \"date\"\n",
        "            }\n",
        "            {\n",
        "            \"name\": \"Speciality\",\n",
        "            \"type\": \"string\"\n",
        "            }\n",
        "        ]\n",
        "        }\n",
        "        \"\"\"\n",
        "        })\n",
        "    \n",
        "context\n"
      ]
    },
    {
      "cell_type": "markdown",
      "id": "ac1173bd",
      "metadata": {},
      "source": [
        "# Have fun and start asking some questions!"
      ]
    },
    {
      "cell_type": "code",
      "execution_count": 80,
      "id": "e98f532e",
      "metadata": {},
      "outputs": [
        {
          "data": {
            "text/plain": [
              "'This is your SQL: \\n\\nSELECT COUNT(*) FROM information_schema.tables;\\n\\nThis SQL command will count the number of tables in the database.'"
            ]
          },
          "execution_count": 80,
          "metadata": {},
          "output_type": "execute_result"
        }
      ],
      "source": [
        "add_prompts_conversation(\"How many tables are there?\")"
      ]
    },
    {
      "cell_type": "code",
      "execution_count": 82,
      "metadata": {},
      "outputs": [],
      "source": [
        "#reset the context\n",
        "context = context[:4]"
      ]
    }
  ],
  "metadata": {
    "colab": {
      "include_colab_link": true,
      "provenance": []
    },
    "kernelspec": {
      "display_name": "Python 3 (ipykernel)",
      "language": "python",
      "name": "python3"
    },
    "language_info": {
      "codemirror_mode": {
        "name": "ipython",
        "version": 3
      },
      "file_extension": ".py",
      "mimetype": "text/x-python",
      "name": "python",
      "nbconvert_exporter": "python",
      "pygments_lexer": "ipython3",
      "version": "3.8.17"
    }
  },
  "nbformat": 4,
  "nbformat_minor": 5
}
